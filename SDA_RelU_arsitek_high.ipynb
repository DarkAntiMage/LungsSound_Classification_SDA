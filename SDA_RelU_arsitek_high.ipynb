{
  "nbformat": 4,
  "nbformat_minor": 0,
  "metadata": {
    "colab": {
      "name": "SDA RelU arsitek high.ipynb",
      "provenance": [],
      "collapsed_sections": [],
      "machine_shape": "hm",
      "authorship_tag": "ABX9TyNpAGCOBAJrRES41BFnqlFX",
      "include_colab_link": true
    },
    "kernelspec": {
      "name": "python3",
      "display_name": "Python 3"
    },
    "accelerator": "GPU"
  },
  "cells": [
    {
      "cell_type": "markdown",
      "metadata": {
        "id": "view-in-github",
        "colab_type": "text"
      },
      "source": [
        "<a href=\"https://colab.research.google.com/github/DarkAntiMage/LungsSound_Classification_SDA/blob/main/SDA_RelU_arsitek_high.ipynb\" target=\"_parent\"><img src=\"https://colab.research.google.com/assets/colab-badge.svg\" alt=\"Open In Colab\"/></a>"
      ]
    },
    {
      "cell_type": "code",
      "metadata": {
        "id": "fSIc1f-A8ZFD",
        "colab": {
          "base_uri": "https://localhost:8080/",
          "height": 128
        },
        "outputId": "6f97410f-6aa6-48f5-fed5-738a5dcdda5a"
      },
      "source": [
        "from google.colab import drive\n",
        "from google.colab import files\n",
        "drive.mount('/content/gdrive')\n",
        "import pandas as pd"
      ],
      "execution_count": null,
      "outputs": [
        {
          "output_type": "stream",
          "text": [
            "Go to this URL in a browser: https://accounts.google.com/o/oauth2/auth?client_id=947318989803-6bn6qk8qdgf4n4g3pfee6491hc0brc4i.apps.googleusercontent.com&redirect_uri=urn%3aietf%3awg%3aoauth%3a2.0%3aoob&response_type=code&scope=email%20https%3a%2f%2fwww.googleapis.com%2fauth%2fdocs.test%20https%3a%2f%2fwww.googleapis.com%2fauth%2fdrive%20https%3a%2f%2fwww.googleapis.com%2fauth%2fdrive.photos.readonly%20https%3a%2f%2fwww.googleapis.com%2fauth%2fpeopleapi.readonly\n",
            "\n",
            "Enter your authorization code:\n",
            "··········\n",
            "Mounted at /content/gdrive\n"
          ],
          "name": "stdout"
        }
      ]
    },
    {
      "cell_type": "code",
      "metadata": {
        "id": "gHx0wKSr8mvP",
        "colab": {
          "base_uri": "https://localhost:8080/",
          "height": 206
        },
        "outputId": "4c7e0257-68dd-443d-806c-7a00c7a0a323"
      },
      "source": [
        "df = pd.read_csv('/content/gdrive/My Drive/data_label.csv', dtype=str)\n",
        "df['Nama File']=df['Nama File']+'.png'\n",
        "df.head()"
      ],
      "execution_count": null,
      "outputs": [
        {
          "output_type": "execute_result",
          "data": {
            "text/html": [
              "<div>\n",
              "<style scoped>\n",
              "    .dataframe tbody tr th:only-of-type {\n",
              "        vertical-align: middle;\n",
              "    }\n",
              "\n",
              "    .dataframe tbody tr th {\n",
              "        vertical-align: top;\n",
              "    }\n",
              "\n",
              "    .dataframe thead th {\n",
              "        text-align: right;\n",
              "    }\n",
              "</style>\n",
              "<table border=\"1\" class=\"dataframe\">\n",
              "  <thead>\n",
              "    <tr style=\"text-align: right;\">\n",
              "      <th></th>\n",
              "      <th>index</th>\n",
              "      <th>id</th>\n",
              "      <th>file</th>\n",
              "      <th>StartRC</th>\n",
              "      <th>EndRC</th>\n",
              "      <th>Crackles</th>\n",
              "      <th>Whezze</th>\n",
              "      <th>class</th>\n",
              "      <th>FaseRes</th>\n",
              "      <th>Nama File</th>\n",
              "    </tr>\n",
              "  </thead>\n",
              "  <tbody>\n",
              "    <tr>\n",
              "      <th>0</th>\n",
              "      <td>0</td>\n",
              "      <td>1</td>\n",
              "      <td>101</td>\n",
              "      <td>0.036</td>\n",
              "      <td>1.907</td>\n",
              "      <td>0</td>\n",
              "      <td>0</td>\n",
              "      <td>0</td>\n",
              "      <td>1</td>\n",
              "      <td>file101chunk0.png</td>\n",
              "    </tr>\n",
              "    <tr>\n",
              "      <th>1</th>\n",
              "      <td>1</td>\n",
              "      <td>2</td>\n",
              "      <td>101</td>\n",
              "      <td>1.907</td>\n",
              "      <td>4.521</td>\n",
              "      <td>0</td>\n",
              "      <td>0</td>\n",
              "      <td>0</td>\n",
              "      <td>0</td>\n",
              "      <td>file101chunk1.png</td>\n",
              "    </tr>\n",
              "    <tr>\n",
              "      <th>2</th>\n",
              "      <td>2</td>\n",
              "      <td>3</td>\n",
              "      <td>101</td>\n",
              "      <td>4.521</td>\n",
              "      <td>7.193</td>\n",
              "      <td>0</td>\n",
              "      <td>0</td>\n",
              "      <td>0</td>\n",
              "      <td>1</td>\n",
              "      <td>file101chunk2.png</td>\n",
              "    </tr>\n",
              "    <tr>\n",
              "      <th>3</th>\n",
              "      <td>3</td>\n",
              "      <td>4</td>\n",
              "      <td>101</td>\n",
              "      <td>7.193</td>\n",
              "      <td>9.75</td>\n",
              "      <td>0</td>\n",
              "      <td>0</td>\n",
              "      <td>0</td>\n",
              "      <td>0</td>\n",
              "      <td>file101chunk3.png</td>\n",
              "    </tr>\n",
              "    <tr>\n",
              "      <th>4</th>\n",
              "      <td>4</td>\n",
              "      <td>5</td>\n",
              "      <td>101</td>\n",
              "      <td>9.75</td>\n",
              "      <td>12.407</td>\n",
              "      <td>0</td>\n",
              "      <td>0</td>\n",
              "      <td>0</td>\n",
              "      <td>1</td>\n",
              "      <td>file101chunk4.png</td>\n",
              "    </tr>\n",
              "  </tbody>\n",
              "</table>\n",
              "</div>"
            ],
            "text/plain": [
              "  index id file StartRC  ... Whezze class FaseRes          Nama File\n",
              "0     0  1  101   0.036  ...      0     0       1  file101chunk0.png\n",
              "1     1  2  101   1.907  ...      0     0       0  file101chunk1.png\n",
              "2     2  3  101   4.521  ...      0     0       1  file101chunk2.png\n",
              "3     3  4  101   7.193  ...      0     0       0  file101chunk3.png\n",
              "4     4  5  101    9.75  ...      0     0       1  file101chunk4.png\n",
              "\n",
              "[5 rows x 10 columns]"
            ]
          },
          "metadata": {
            "tags": []
          },
          "execution_count": 2
        }
      ]
    },
    {
      "cell_type": "code",
      "metadata": {
        "id": "ZOh09HGG8yKO",
        "colab": {
          "base_uri": "https://localhost:8080/",
          "height": 206
        },
        "outputId": "34ae7cda-52a2-4c37-bcd6-0f5807fd0a00"
      },
      "source": [
        "df_for_model = df[[\"Nama File\",\"class\"]].astype(\"str\")\n",
        "df_for_model.head()"
      ],
      "execution_count": null,
      "outputs": [
        {
          "output_type": "execute_result",
          "data": {
            "text/html": [
              "<div>\n",
              "<style scoped>\n",
              "    .dataframe tbody tr th:only-of-type {\n",
              "        vertical-align: middle;\n",
              "    }\n",
              "\n",
              "    .dataframe tbody tr th {\n",
              "        vertical-align: top;\n",
              "    }\n",
              "\n",
              "    .dataframe thead th {\n",
              "        text-align: right;\n",
              "    }\n",
              "</style>\n",
              "<table border=\"1\" class=\"dataframe\">\n",
              "  <thead>\n",
              "    <tr style=\"text-align: right;\">\n",
              "      <th></th>\n",
              "      <th>Nama File</th>\n",
              "      <th>class</th>\n",
              "    </tr>\n",
              "  </thead>\n",
              "  <tbody>\n",
              "    <tr>\n",
              "      <th>0</th>\n",
              "      <td>file101chunk0.png</td>\n",
              "      <td>0</td>\n",
              "    </tr>\n",
              "    <tr>\n",
              "      <th>1</th>\n",
              "      <td>file101chunk1.png</td>\n",
              "      <td>0</td>\n",
              "    </tr>\n",
              "    <tr>\n",
              "      <th>2</th>\n",
              "      <td>file101chunk2.png</td>\n",
              "      <td>0</td>\n",
              "    </tr>\n",
              "    <tr>\n",
              "      <th>3</th>\n",
              "      <td>file101chunk3.png</td>\n",
              "      <td>0</td>\n",
              "    </tr>\n",
              "    <tr>\n",
              "      <th>4</th>\n",
              "      <td>file101chunk4.png</td>\n",
              "      <td>0</td>\n",
              "    </tr>\n",
              "  </tbody>\n",
              "</table>\n",
              "</div>"
            ],
            "text/plain": [
              "           Nama File class\n",
              "0  file101chunk0.png     0\n",
              "1  file101chunk1.png     0\n",
              "2  file101chunk2.png     0\n",
              "3  file101chunk3.png     0\n",
              "4  file101chunk4.png     0"
            ]
          },
          "metadata": {
            "tags": []
          },
          "execution_count": 3
        }
      ]
    },
    {
      "cell_type": "code",
      "metadata": {
        "id": "vF6YR3G283M3",
        "colab": {
          "base_uri": "https://localhost:8080/",
          "height": 280
        },
        "outputId": "7f8ba619-2461-4a90-c3d3-a9dc66958a65"
      },
      "source": [
        "df_for_model['class'].value_counts().plot.bar()"
      ],
      "execution_count": null,
      "outputs": [
        {
          "output_type": "execute_result",
          "data": {
            "text/plain": [
              "<matplotlib.axes._subplots.AxesSubplot at 0x7f11a9ba24e0>"
            ]
          },
          "metadata": {
            "tags": []
          },
          "execution_count": 4
        },
        {
          "output_type": "display_data",
          "data": {
            "image/png": "[encoded data removed]",
            "text/plain": [
              "<Figure size 432x288 with 1 Axes>"
            ]
          },
          "metadata": {
            "tags": [],
            "needs_background": "light"
          }
        }
      ]
    },
    {
      "cell_type": "code",
      "metadata": {
        "id": "rz7rD0V085T3"
      },
      "source": [
        "from sklearn.model_selection import train_test_split\n",
        "train_validate_df, final_test_df = train_test_split(df_for_model, test_size=0.15, stratify = df_for_model['class'].values, random_state=42)\n",
        "\n",
        "train_validate_df = train_validate_df.reset_index(drop=True)\n",
        "test_df = final_test_df.reset_index(drop=True)"
      ],
      "execution_count": null,
      "outputs": []
    },
    {
      "cell_type": "code",
      "metadata": {
        "id": "nuPUzp6G88JZ"
      },
      "source": [
        "train_validate_df = pd.read_csv('/content/gdrive/My Drive/file TA excel/trainval.csv', dtype=str)\n",
        "test_df = pd.read_csv('/content/gdrive/My Drive/file TA excel/test.csv', dtype=str)"
      ],
      "execution_count": null,
      "outputs": []
    },
    {
      "cell_type": "code",
      "metadata": {
        "id": "UAJfWRfU8-bF"
      },
      "source": [
        "import random\n",
        "import numpy as np\n",
        "from tensorflow.keras.preprocessing.image import ImageDataGenerator\n",
        "\n",
        "train_datagen = ImageDataGenerator(rescale=1./255)\n",
        "val_datagen = ImageDataGenerator(rescale=1./255)\n",
        "test_datagen = ImageDataGenerator(rescale=1./255)"
      ],
      "execution_count": null,
      "outputs": []
    },
    {
      "cell_type": "code",
      "metadata": {
        "id": "Dy-6nZry8_4p"
      },
      "source": [
        "#model 1\n",
        "from tensorflow.keras.layers import Input, Dense, Conv2D, MaxPooling2D, UpSampling2D, Flatten, BatchNormalization, Dropout\n",
        "from tensorflow.keras.models import Model\n",
        "import tensorflow as tf\n",
        "input_img = Input(shape=(250, 250, 3))  # adapt this if using `channels_first` image data format\n",
        "\n",
        "\n",
        "def sdae(inputimg):\n",
        "  #autoencoder\n",
        "  x = Conv2D(512, (3, 3), activation='relu', padding='same')(input_img)\n",
        "  x = MaxPooling2D((2, 2), padding='same')(x)\n",
        "  x = Conv2D(256, (3, 3), activation='relu', padding='same')(x)\n",
        "  x = MaxPooling2D((2, 2), padding='same')(x)\n",
        "  x = Conv2D(128, (3, 3), activation='relu', padding='same')(x)\n",
        "  x = MaxPooling2D((2, 2), padding='same')(x)\n",
        "  x = Conv2D(64, (3, 3), activation='relu', padding='same')(x)\n",
        "  encoded = MaxPooling2D((2, 2), padding='same')(x)\n",
        "\n",
        "\n",
        "  x = Conv2D(128, (3, 3), activation='relu', padding='same')(encoded)\n",
        "  x = UpSampling2D((2, 2))(x)\n",
        "  x = Conv2D(256, (3, 3), activation='relu', padding='same')(x)\n",
        "  x = UpSampling2D((2, 2))(x)\n",
        "  x = Conv2D(512, (3, 3), activation='relu')(x)\n",
        "  x = UpSampling2D((2, 2))(x)\n",
        "  decode = Conv2D(3, (3, 3), activation='sigmoid', padding='same')(x)\n",
        "\n",
        "  flat = Flatten()(decode)\n",
        "  den = Dense(256, activation='relu')(flat)\n",
        "  den = Dropout(0.5)(den)\n",
        "  den = Dense(128, activation='relu')(den)\n",
        "  out = Dense(4, activation='softmax')(den)\n",
        "\n",
        "  return out\n",
        "\n",
        "def callbacks(checkpoint_filepath):\n",
        "  lr_reduction = tf.keras.callbacks.ReduceLROnPlateau(monitor=\"val_loss\",\n",
        "                                       factor=0.1,\n",
        "                                       patience=2,\n",
        "                                       verbose=1,\n",
        "                                       min_lr=0.000001)\n",
        "  best_model_cekpoint = tf.keras.callbacks.ModelCheckpoint(filepath=checkpoint_filepath,\n",
        "                                                              save_weights_only=True,\n",
        "                                                              monitor='val_loss',\n",
        "                                                              mode='max',\n",
        "                                                              save_best_only=True)\n",
        "  return [lr_reduction, best_model_cekpoint]"
      ],
      "execution_count": null,
      "outputs": []
    },
    {
      "cell_type": "code",
      "metadata": {
        "id": "3dQMwTiu9ByS"
      },
      "source": [
        "checkpoint_filepath = '/content/gdrive/My Drive/autoencoder.h5'"
      ],
      "execution_count": null,
      "outputs": []
    },
    {
      "cell_type": "code",
      "metadata": {
        "id": "aTZEetW-9Dfg",
        "colab": {
          "base_uri": "https://localhost:8080/",
          "height": 35
        },
        "outputId": "41c4d139-7c91-4139-9fbc-5f6647905863"
      },
      "source": [
        "device_name = tf.test.gpu_device_name()\n",
        "print('GPU at: {}'.format(device_name))"
      ],
      "execution_count": null,
      "outputs": [
        {
          "output_type": "stream",
          "text": [
            "GPU at: /device:GPU:0\n"
          ],
          "name": "stdout"
        }
      ]
    },
    {
      "cell_type": "code",
      "metadata": {
        "id": "C9z53CTZ9FF3",
        "colab": {
          "base_uri": "https://localhost:8080/",
          "height": 1000
        },
        "outputId": "45b497af-2f33-4001-9c76-e9b7a71cfc55"
      },
      "source": [
        "from sklearn.model_selection import StratifiedShuffleSplit\n",
        "import glob\n",
        "sss = StratifiedShuffleSplit(n_splits=10, test_size=0.10, random_state=42)\n",
        "X = train_validate_df[\"Nama File\"].values  \n",
        "y = train_validate_df[\"class\"].values\n",
        "i = 1\n",
        "with tf.device('device:GPU:0'):\n",
        "  for train_index, test_index in sss.split(X, y):\n",
        "    print(f\"***   StratifiedShuffleSplit {i}   ***\")\n",
        "    i+=1\n",
        "    TrainVal_dict = {\"Nama File\": X[train_index],\"class\":y[train_index]}\n",
        "    \n",
        "    TrainVal_df = pd.DataFrame(TrainVal_dict)\n",
        "    Train_df, Valid_df = train_test_split(TrainVal_df, test_size=0.10, stratify = TrainVal_df['class'].values, random_state=42)\n",
        "    Train_df = Train_df.reset_index(drop=True)\n",
        "    df_tr_nonaug = Train_df.copy()\n",
        "    df_tr_pitchshift = Train_df.copy()\n",
        "    df_tr_timestrech = Train_df.copy()\n",
        "    df_tr_timestrech1 = Train_df.copy()\n",
        "    df_tr_timestrech1 = Train_df.copy()\n",
        "    \n",
        "    df_tr_nonaug['path'] = 'none'\n",
        "    files = glob.glob('/content/gdrive/My Drive/wavelet_denoising/*.png')\n",
        "    for j in range(len(df_tr_nonaug)):\n",
        "      if '/content/gdrive/My Drive/wavelet_denoising/'+str(df_tr_nonaug['Nama File'].iloc[j]) in files:\n",
        "        df_tr_nonaug['path'].iloc[j] = '/content/gdrive/My Drive/wavelet_denoising/'+str(df_tr_nonaug['Nama File'].iloc[j])\n",
        "\n",
        "    df_tr_pitchshift['path'] = 'none'\n",
        "    files = glob.glob('/content/gdrive/My Drive/wavelet_pitchshifting_denoising/*.png')\n",
        "    for k in range(len(df_tr_pitchshift)):\n",
        "      if '/content/gdrive/My Drive/wavelet_pitchshifting_denoising/'+str(df_tr_timestrech['Nama File'].iloc[k]) in files:\n",
        "        df_tr_pitchshift['path'].iloc[k] = '/content/gdrive/My Drive/wavelet_pitchshifting_denoising/'+str(df_tr_pitchshift['Nama File'].iloc[k])\n",
        "\n",
        "    df_tr_timestrech['path'] = 'none'\n",
        "    files = glob.glob('/content/gdrive/My Drive/wavelet_timestreching16_denoising/*.png')\n",
        "    for l in range(len(df_tr_timestrech)):\n",
        "      if '/content/gdrive/My Drive/wavelet_timestreching16_denoising/'+str(df_tr_timestrech['Nama File'].iloc[l]) in files:\n",
        "        df_tr_timestrech['path'].iloc[l] = '/content/gdrive/My Drive/wavelet_timestreching16_denoising/'+str(df_tr_timestrech['Nama File'].iloc[l])\n",
        "\n",
        "    df_tr_timestrech1['path'] = 'none'\n",
        "    files = glob.glob('/content/gdrive/My Drive/wavelet_timestreching04_denoising/*.png')\n",
        "    for m in range(len(df_tr_timestrech1)):\n",
        "      if '/content/gdrive/My Drive/wavelet_timestreching04_denoising/'+str(df_tr_timestrech1['Nama File'].iloc[m]) in files:\n",
        "        df_tr_timestrech1['path'].iloc[m] = '/content/gdrive/My Drive/wavelet_timestreching04_denoising/'+str(df_tr_timestrech1['Nama File'].iloc[m])\n",
        "  \n",
        "    df_tr = df_tr_nonaug.append([df_tr_pitchshift,df_tr_timestrech,df_tr_timestrech1])\n",
        "    df_tr.reset_index(drop=True)\n",
        "\n",
        "    df_val = Valid_df.reset_index(drop=True)\n",
        "    df_val['path'] = 'none'\n",
        "    files = glob.glob('/content/gdrive/My Drive/wavelet_denoising/*.png')\n",
        "    for m in range(len(df_val)):\n",
        "      if '/content/gdrive/My Drive/wavelet_denoising/'+str(df_val['Nama File'].iloc[m]) in files:\n",
        "        df_val['path'].iloc[m] = '/content/gdrive/My Drive/wavelet_denoising/'+str(df_val['Nama File'].iloc[m])\n",
        "\n",
        "    Test_dict = {\"Nama File\": X[test_index],\"class\":y[test_index]}\n",
        "    df_te = pd.DataFrame(Test_dict)\n",
        "    df_te = df_te.reset_index(drop=True)\n",
        "    df_te['path'] = 'none'\n",
        "    files = glob.glob('/content/gdrive/My Drive/wavelet_denoising/*.png')\n",
        "    for n in range(len(df_te)):\n",
        "      if '/content/gdrive/My Drive/wavelet_denoising/'+str(df_te['Nama File'].iloc[n]) in files:\n",
        "        df_te['path'].iloc[n] = '/content/gdrive/My Drive/wavelet_denoising/'+str(df_te['Nama File'].iloc[n])\n",
        "\n",
        "\n",
        "    train_generator = train_datagen.flow_from_dataframe(df_tr, x_col='path', y_col='class', target_size=(252,252),\n",
        "                                                      class_mode='categorical', batch_size=16)\n",
        "\n",
        "    val_generator = val_datagen.flow_from_dataframe(df_val, x_col='path', y_col='class', target_size=(252,252),\n",
        "                                                      class_mode='categorical', batch_size=16)\n",
        "\n",
        "    test_generator = test_datagen.flow_from_dataframe(df_te, x_col='path', y_col='class', target_size=(252,252),\n",
        "                                                      class_mode='categorical', batch_size=16)\n",
        "    \n",
        "    Stacked_Denoising_Autoencode = Model(input_img, sdae(input_img))\n",
        "    Stacked_Denoising_Autoencode.compile(optimizer= tf.keras.optimizers.RMSprop(learning_rate=0.00005) , loss='categorical_crossentropy', metrics=['accuracy'])\n",
        "    \n",
        "    train_model = Stacked_Denoising_Autoencode.fit(train_generator,\n",
        "                    epochs=15,\n",
        "                    steps_per_epoch= df_tr.shape[0]//16,\n",
        "                    validation_steps= df_val.shape[0]//16,\n",
        "                    validation_data=val_generator,\n",
        "                    callbacks=callbacks(checkpoint_filepath))\n",
        "\n",
        "    test_loss, test_acc = Stacked_Denoising_Autoencode.evaluate(test_generator)\n",
        "\n",
        "    print(f'\\nTest accuracy: {test_acc} \\t Test loss: {test_loss}\\n\\n')    "
      ],
      "execution_count": null,
      "outputs": [
        {
          "output_type": "stream",
          "text": [
            "***   StratifiedShuffleSplit 1   ***\n",
            "Found 6516 validated image filenames belonging to 4 classes.\n",
            "Found 182 validated image filenames belonging to 4 classes.\n",
            "Found 202 validated image filenames belonging to 4 classes.\n",
            "Epoch 1/15\n",
            "407/407 [==============================] - 96s 236ms/step - loss: 1.1985 - accuracy: 0.5132 - val_loss: 1.1612 - val_accuracy: 0.5227 - lr: 5.0000e-05\n",
            "Epoch 2/15\n",
            "407/407 [==============================] - 95s 234ms/step - loss: 1.1633 - accuracy: 0.5238 - val_loss: 1.1468 - val_accuracy: 0.5227 - lr: 5.0000e-05\n",
            "Epoch 3/15\n",
            "407/407 [==============================] - 95s 234ms/step - loss: 1.1488 - accuracy: 0.5269 - val_loss: 1.1340 - val_accuracy: 0.5341 - lr: 5.0000e-05\n",
            "Epoch 4/15\n",
            "407/407 [==============================] - 95s 234ms/step - loss: 1.1367 - accuracy: 0.5340 - val_loss: 1.0808 - val_accuracy: 0.5341 - lr: 5.0000e-05\n",
            "Epoch 5/15\n",
            "407/407 [==============================] - 95s 234ms/step - loss: 1.1207 - accuracy: 0.5463 - val_loss: 1.0245 - val_accuracy: 0.5455 - lr: 5.0000e-05\n",
            "Epoch 6/15\n",
            "407/407 [==============================] - 95s 234ms/step - loss: 1.1003 - accuracy: 0.5514 - val_loss: 0.9921 - val_accuracy: 0.5795 - lr: 5.0000e-05\n",
            "Epoch 7/15\n",
            "407/407 [==============================] - 95s 234ms/step - loss: 1.0846 - accuracy: 0.5600 - val_loss: 0.9824 - val_accuracy: 0.5909 - lr: 5.0000e-05\n",
            "Epoch 8/15\n",
            "407/407 [==============================] - 95s 234ms/step - loss: 1.0681 - accuracy: 0.5655 - val_loss: 0.9647 - val_accuracy: 0.5625 - lr: 5.0000e-05\n",
            "Epoch 9/15\n",
            "407/407 [==============================] - 95s 234ms/step - loss: 1.0460 - accuracy: 0.5706 - val_loss: 1.0016 - val_accuracy: 0.5795 - lr: 5.0000e-05\n",
            "Epoch 10/15\n",
            "407/407 [==============================] - ETA: 0s - loss: 1.0403 - accuracy: 0.5806\n",
            "Epoch 00010: ReduceLROnPlateau reducing learning rate to 4.999999873689376e-06.\n",
            "407/407 [==============================] - 95s 234ms/step - loss: 1.0403 - accuracy: 0.5806 - val_loss: 0.9787 - val_accuracy: 0.6193 - lr: 5.0000e-05\n",
            "Epoch 11/15\n",
            "407/407 [==============================] - 95s 234ms/step - loss: 0.9783 - accuracy: 0.6025 - val_loss: 0.9119 - val_accuracy: 0.6136 - lr: 5.0000e-06\n",
            "Epoch 12/15\n",
            "407/407 [==============================] - 95s 234ms/step - loss: 0.9630 - accuracy: 0.6128 - val_loss: 0.9335 - val_accuracy: 0.6193 - lr: 5.0000e-06\n",
            "Epoch 13/15\n",
            "407/407 [==============================] - 95s 234ms/step - loss: 0.9549 - accuracy: 0.6152 - val_loss: 0.9091 - val_accuracy: 0.6250 - lr: 5.0000e-06\n",
            "Epoch 14/15\n",
            "407/407 [==============================] - 95s 234ms/step - loss: 0.9501 - accuracy: 0.6172 - val_loss: 0.9219 - val_accuracy: 0.6420 - lr: 5.0000e-06\n",
            "Epoch 15/15\n",
            "407/407 [==============================] - ETA: 0s - loss: 0.9418 - accuracy: 0.6275\n",
            "Epoch 00015: ReduceLROnPlateau reducing learning rate to 1e-06.\n",
            "407/407 [==============================] - 95s 234ms/step - loss: 0.9418 - accuracy: 0.6275 - val_loss: 0.9098 - val_accuracy: 0.6477 - lr: 5.0000e-06\n",
            "13/13 [==============================] - 2s 123ms/step - loss: 1.0137 - accuracy: 0.5792\n",
            "\n",
            "Test accuracy: 0.5792078971862793 \t Test loss: 1.0137453079223633\n",
            "\n",
            "\n",
            "***   StratifiedShuffleSplit 2   ***\n",
            "Found 6516 validated image filenames belonging to 4 classes.\n",
            "Found 182 validated image filenames belonging to 4 classes.\n",
            "Found 202 validated image filenames belonging to 4 classes.\n",
            "Epoch 1/15\n",
            "407/407 [==============================] - 344s 846ms/step - loss: 1.2099 - accuracy: 0.5206 - val_loss: 1.1384 - val_accuracy: 0.5341 - lr: 5.0000e-05\n",
            "Epoch 2/15\n",
            "407/407 [==============================] - 96s 236ms/step - loss: 1.1631 - accuracy: 0.5285 - val_loss: 1.1427 - val_accuracy: 0.5227 - lr: 5.0000e-05\n",
            "Epoch 3/15\n",
            "407/407 [==============================] - 95s 234ms/step - loss: 1.1494 - accuracy: 0.5288 - val_loss: 1.1346 - val_accuracy: 0.5455 - lr: 5.0000e-05\n",
            "Epoch 4/15\n",
            "407/407 [==============================] - 95s 234ms/step - loss: 1.1199 - accuracy: 0.5306 - val_loss: 1.1155 - val_accuracy: 0.5455 - lr: 5.0000e-05\n",
            "Epoch 5/15\n",
            "407/407 [==============================] - 95s 233ms/step - loss: 1.0938 - accuracy: 0.5438 - val_loss: 1.0521 - val_accuracy: 0.5568 - lr: 5.0000e-05\n",
            "Epoch 6/15\n",
            "407/407 [==============================] - 95s 234ms/step - loss: 1.0709 - accuracy: 0.5508 - val_loss: 1.0695 - val_accuracy: 0.5795 - lr: 5.0000e-05\n",
            "Epoch 7/15\n",
            "407/407 [==============================] - ETA: 0s - loss: 1.0558 - accuracy: 0.5583\n",
            "Epoch 00007: ReduceLROnPlateau reducing learning rate to 4.999999873689376e-06.\n",
            "407/407 [==============================] - 95s 234ms/step - loss: 1.0558 - accuracy: 0.5583 - val_loss: 1.0533 - val_accuracy: 0.5966 - lr: 5.0000e-05\n",
            "Epoch 8/15\n",
            "407/407 [==============================] - 95s 234ms/step - loss: 1.0054 - accuracy: 0.5811 - val_loss: 1.0268 - val_accuracy: 0.6193 - lr: 5.0000e-06\n",
            "Epoch 9/15\n",
            "407/407 [==============================] - 95s 234ms/step - loss: 0.9907 - accuracy: 0.5915 - val_loss: 1.0480 - val_accuracy: 0.6193 - lr: 5.0000e-06\n",
            "Epoch 10/15\n",
            "407/407 [==============================] - ETA: 0s - loss: 0.9902 - accuracy: 0.5949\n",
            "Epoch 00010: ReduceLROnPlateau reducing learning rate to 1e-06.\n",
            "407/407 [==============================] - 95s 234ms/step - loss: 0.9902 - accuracy: 0.5949 - val_loss: 1.0290 - val_accuracy: 0.6364 - lr: 5.0000e-06\n",
            "Epoch 11/15\n",
            "407/407 [==============================] - 95s 234ms/step - loss: 0.9798 - accuracy: 0.5965 - val_loss: 1.0529 - val_accuracy: 0.6136 - lr: 1.0000e-06\n",
            "Epoch 12/15\n",
            "407/407 [==============================] - 95s 234ms/step - loss: 0.9765 - accuracy: 0.5934 - val_loss: 1.0342 - val_accuracy: 0.6477 - lr: 1.0000e-06\n",
            "Epoch 13/15\n",
            "407/407 [==============================] - 95s 234ms/step - loss: 0.9751 - accuracy: 0.6060 - val_loss: 1.0359 - val_accuracy: 0.6250 - lr: 1.0000e-06\n",
            "Epoch 14/15\n",
            "407/407 [==============================] - 95s 234ms/step - loss: 0.9697 - accuracy: 0.6052 - val_loss: 1.0314 - val_accuracy: 0.6250 - lr: 1.0000e-06\n",
            "Epoch 15/15\n",
            "407/407 [==============================] - 95s 234ms/step - loss: 0.9757 - accuracy: 0.5969 - val_loss: 1.0349 - val_accuracy: 0.6364 - lr: 1.0000e-06\n",
            "13/13 [==============================] - 1s 80ms/step - loss: 0.9880 - accuracy: 0.6436\n",
            "\n",
            "Test accuracy: 0.6435643434524536 \t Test loss: 0.9879823923110962\n",
            "\n",
            "\n",
            "***   StratifiedShuffleSplit 3   ***\n",
            "Found 6516 validated image filenames belonging to 4 classes.\n",
            "Found 182 validated image filenames belonging to 4 classes.\n",
            "Found 202 validated image filenames belonging to 4 classes.\n",
            "Epoch 1/15\n",
            "407/407 [==============================] - 137s 337ms/step - loss: 1.1887 - accuracy: 0.5186 - val_loss: 1.1473 - val_accuracy: 0.5284 - lr: 5.0000e-05\n",
            "Epoch 2/15\n",
            "407/407 [==============================] - 95s 233ms/step - loss: 1.1545 - accuracy: 0.5258 - val_loss: 1.1256 - val_accuracy: 0.5341 - lr: 5.0000e-05\n",
            "Epoch 3/15\n",
            "407/407 [==============================] - 95s 233ms/step - loss: 1.1434 - accuracy: 0.5314 - val_loss: 1.1023 - val_accuracy: 0.5398 - lr: 5.0000e-05\n",
            "Epoch 4/15\n",
            "407/407 [==============================] - 95s 233ms/step - loss: 1.1332 - accuracy: 0.5372 - val_loss: 1.1025 - val_accuracy: 0.5455 - lr: 5.0000e-05\n",
            "Epoch 5/15\n",
            "407/407 [==============================] - 95s 233ms/step - loss: 1.1197 - accuracy: 0.5402 - val_loss: 1.0555 - val_accuracy: 0.6136 - lr: 5.0000e-05\n",
            "Epoch 6/15\n",
            "407/407 [==============================] - 95s 233ms/step - loss: 1.0962 - accuracy: 0.5477 - val_loss: 1.0728 - val_accuracy: 0.6136 - lr: 5.0000e-05\n",
            "Epoch 7/15\n",
            "407/407 [==============================] - 95s 234ms/step - loss: 1.0846 - accuracy: 0.5569 - val_loss: 1.0252 - val_accuracy: 0.6250 - lr: 5.0000e-05\n",
            "Epoch 8/15\n",
            "407/407 [==============================] - 95s 234ms/step - loss: 1.0616 - accuracy: 0.5668 - val_loss: 1.1041 - val_accuracy: 0.4886 - lr: 5.0000e-05\n",
            "Epoch 9/15\n",
            "407/407 [==============================] - ETA: 0s - loss: 1.0473 - accuracy: 0.5755\n",
            "Epoch 00009: ReduceLROnPlateau reducing learning rate to 4.999999873689376e-06.\n",
            "407/407 [==============================] - 95s 233ms/step - loss: 1.0473 - accuracy: 0.5755 - val_loss: 1.0482 - val_accuracy: 0.5966 - lr: 5.0000e-05\n",
            "Epoch 10/15\n",
            "407/407 [==============================] - 95s 233ms/step - loss: 0.9827 - accuracy: 0.6017 - val_loss: 0.9339 - val_accuracy: 0.6193 - lr: 5.0000e-06\n",
            "Epoch 11/15\n",
            "407/407 [==============================] - 95s 234ms/step - loss: 0.9633 - accuracy: 0.6108 - val_loss: 0.9357 - val_accuracy: 0.6023 - lr: 5.0000e-06\n",
            "Epoch 12/15\n",
            "407/407 [==============================] - ETA: 0s - loss: 0.9562 - accuracy: 0.6134\n",
            "Epoch 00012: ReduceLROnPlateau reducing learning rate to 1e-06.\n",
            "407/407 [==============================] - 95s 234ms/step - loss: 0.9562 - accuracy: 0.6134 - val_loss: 0.9527 - val_accuracy: 0.6193 - lr: 5.0000e-06\n",
            "Epoch 13/15\n",
            "407/407 [==============================] - 95s 233ms/step - loss: 0.9478 - accuracy: 0.6223 - val_loss: 0.9420 - val_accuracy: 0.5966 - lr: 1.0000e-06\n",
            "Epoch 14/15\n",
            "407/407 [==============================] - 95s 233ms/step - loss: 0.9463 - accuracy: 0.6143 - val_loss: 0.9308 - val_accuracy: 0.6193 - lr: 1.0000e-06\n",
            "Epoch 15/15\n",
            "407/407 [==============================] - 95s 233ms/step - loss: 0.9448 - accuracy: 0.6215 - val_loss: 0.9523 - val_accuracy: 0.5909 - lr: 1.0000e-06\n",
            "13/13 [==============================] - 1s 80ms/step - loss: 0.8893 - accuracy: 0.6584\n",
            "\n",
            "Test accuracy: 0.6584158539772034 \t Test loss: 0.8893307447433472\n",
            "\n",
            "\n",
            "***   StratifiedShuffleSplit 4   ***\n",
            "Found 6516 validated image filenames belonging to 4 classes.\n",
            "Found 182 validated image filenames belonging to 4 classes.\n",
            "Found 202 validated image filenames belonging to 4 classes.\n",
            "Epoch 1/15\n",
            "407/407 [==============================] - 111s 273ms/step - loss: 1.2019 - accuracy: 0.5106 - val_loss: 1.1553 - val_accuracy: 0.5227 - lr: 5.0000e-05\n",
            "Epoch 2/15\n",
            "407/407 [==============================] - 95s 233ms/step - loss: 1.1609 - accuracy: 0.5249 - val_loss: 1.1247 - val_accuracy: 0.5341 - lr: 5.0000e-05\n",
            "Epoch 3/15\n",
            "407/407 [==============================] - 95s 233ms/step - loss: 1.1544 - accuracy: 0.5285 - val_loss: 1.0719 - val_accuracy: 0.5682 - lr: 5.0000e-05\n",
            "Epoch 4/15\n",
            "407/407 [==============================] - 95s 233ms/step - loss: 1.1350 - accuracy: 0.5337 - val_loss: 1.0823 - val_accuracy: 0.5625 - lr: 5.0000e-05\n",
            "Epoch 5/15\n",
            "407/407 [==============================] - 95s 233ms/step - loss: 1.1100 - accuracy: 0.5380 - val_loss: 1.0314 - val_accuracy: 0.5511 - lr: 5.0000e-05\n",
            "Epoch 6/15\n",
            "407/407 [==============================] - 95s 233ms/step - loss: 1.0854 - accuracy: 0.5491 - val_loss: 1.0197 - val_accuracy: 0.5682 - lr: 5.0000e-05\n",
            "Epoch 7/15\n",
            "407/407 [==============================] - 95s 233ms/step - loss: 1.0564 - accuracy: 0.5622 - val_loss: 1.0178 - val_accuracy: 0.5682 - lr: 5.0000e-05\n",
            "Epoch 8/15\n",
            "407/407 [==============================] - 95s 233ms/step - loss: 1.0388 - accuracy: 0.5698 - val_loss: 0.9473 - val_accuracy: 0.6477 - lr: 5.0000e-05\n",
            "Epoch 9/15\n",
            "407/407 [==============================] - 95s 233ms/step - loss: 1.0142 - accuracy: 0.5829 - val_loss: 0.9496 - val_accuracy: 0.6193 - lr: 5.0000e-05\n",
            "Epoch 10/15\n",
            "407/407 [==============================] - 95s 233ms/step - loss: 0.9876 - accuracy: 0.5934 - val_loss: 0.9442 - val_accuracy: 0.6136 - lr: 5.0000e-05\n",
            "Epoch 11/15\n",
            "407/407 [==============================] - 95s 234ms/step - loss: 0.9614 - accuracy: 0.6068 - val_loss: 0.9128 - val_accuracy: 0.6534 - lr: 5.0000e-05\n",
            "Epoch 12/15\n",
            "407/407 [==============================] - 95s 234ms/step - loss: 0.9392 - accuracy: 0.6125 - val_loss: 0.8890 - val_accuracy: 0.6591 - lr: 5.0000e-05\n",
            "Epoch 13/15\n",
            "407/407 [==============================] - 95s 234ms/step - loss: 0.9136 - accuracy: 0.6288 - val_loss: 0.8664 - val_accuracy: 0.6932 - lr: 5.0000e-05\n",
            "Epoch 14/15\n",
            "407/407 [==============================] - 95s 234ms/step - loss: 0.8980 - accuracy: 0.6412 - val_loss: 0.8766 - val_accuracy: 0.6705 - lr: 5.0000e-05\n",
            "Epoch 15/15\n",
            "407/407 [==============================] - ETA: 0s - loss: 0.8782 - accuracy: 0.6454\n",
            "Epoch 00015: ReduceLROnPlateau reducing learning rate to 4.999999873689376e-06.\n",
            "407/407 [==============================] - 95s 234ms/step - loss: 0.8782 - accuracy: 0.6454 - val_loss: 0.8858 - val_accuracy: 0.6591 - lr: 5.0000e-05\n",
            "13/13 [==============================] - 1s 80ms/step - loss: 0.9477 - accuracy: 0.6584\n",
            "\n",
            "Test accuracy: 0.6584158539772034 \t Test loss: 0.9476891160011292\n",
            "\n",
            "\n",
            "***   StratifiedShuffleSplit 5   ***\n",
            "Found 6516 validated image filenames belonging to 4 classes.\n",
            "Found 182 validated image filenames belonging to 4 classes.\n",
            "Found 202 validated image filenames belonging to 4 classes.\n",
            "Epoch 1/15\n",
            "407/407 [==============================] - 96s 236ms/step - loss: 1.2085 - accuracy: 0.5228 - val_loss: 1.1390 - val_accuracy: 0.5284 - lr: 5.0000e-05\n",
            "Epoch 2/15\n",
            "407/407 [==============================] - 96s 236ms/step - loss: 1.1599 - accuracy: 0.5274 - val_loss: 1.1754 - val_accuracy: 0.5398 - lr: 5.0000e-05\n",
            "Epoch 3/15\n",
            "407/407 [==============================] - 95s 234ms/step - loss: 1.1395 - accuracy: 0.5318 - val_loss: 1.1270 - val_accuracy: 0.5398 - lr: 5.0000e-05\n",
            "Epoch 4/15\n",
            "407/407 [==============================] - 95s 234ms/step - loss: 1.1273 - accuracy: 0.5431 - val_loss: 1.1109 - val_accuracy: 0.5511 - lr: 5.0000e-05\n",
            "Epoch 5/15\n",
            "407/407 [==============================] - 95s 234ms/step - loss: 1.1097 - accuracy: 0.5508 - val_loss: 1.0842 - val_accuracy: 0.5682 - lr: 5.0000e-05\n",
            "Epoch 6/15\n",
            "407/407 [==============================] - 95s 234ms/step - loss: 1.1038 - accuracy: 0.5548 - val_loss: 1.1003 - val_accuracy: 0.5284 - lr: 5.0000e-05\n",
            "Epoch 7/15\n",
            "407/407 [==============================] - 95s 234ms/step - loss: 1.0840 - accuracy: 0.5615 - val_loss: 1.0665 - val_accuracy: 0.5625 - lr: 5.0000e-05\n",
            "Epoch 8/15\n",
            "407/407 [==============================] - 95s 234ms/step - loss: 1.0426 - accuracy: 0.5726 - val_loss: 1.0716 - val_accuracy: 0.5568 - lr: 5.0000e-05\n",
            "Epoch 9/15\n",
            "407/407 [==============================] - 95s 234ms/step - loss: 1.0152 - accuracy: 0.5914 - val_loss: 1.0542 - val_accuracy: 0.5511 - lr: 5.0000e-05\n",
            "Epoch 10/15\n",
            "407/407 [==============================] - 95s 234ms/step - loss: 0.9874 - accuracy: 0.5991 - val_loss: 1.0054 - val_accuracy: 0.5852 - lr: 5.0000e-05\n",
            "Epoch 11/15\n",
            "407/407 [==============================] - 95s 234ms/step - loss: 0.9723 - accuracy: 0.6097 - val_loss: 0.9842 - val_accuracy: 0.5909 - lr: 5.0000e-05\n",
            "Epoch 12/15\n",
            "407/407 [==============================] - 95s 234ms/step - loss: 0.9505 - accuracy: 0.6126 - val_loss: 0.9203 - val_accuracy: 0.6648 - lr: 5.0000e-05\n",
            "Epoch 13/15\n",
            "407/407 [==============================] - 95s 234ms/step - loss: 0.9309 - accuracy: 0.6322 - val_loss: 0.9625 - val_accuracy: 0.6250 - lr: 5.0000e-05\n",
            "Epoch 14/15\n",
            "407/407 [==============================] - ETA: 0s - loss: 0.9146 - accuracy: 0.6343\n",
            "Epoch 00014: ReduceLROnPlateau reducing learning rate to 4.999999873689376e-06.\n",
            "407/407 [==============================] - 95s 234ms/step - loss: 0.9146 - accuracy: 0.6343 - val_loss: 0.9474 - val_accuracy: 0.6307 - lr: 5.0000e-05\n",
            "Epoch 15/15\n",
            "407/407 [==============================] - 95s 234ms/step - loss: 0.8322 - accuracy: 0.6698 - val_loss: 0.9378 - val_accuracy: 0.6477 - lr: 5.0000e-06\n",
            "13/13 [==============================] - 1s 81ms/step - loss: 0.9641 - accuracy: 0.6238\n",
            "\n",
            "Test accuracy: 0.6237623691558838 \t Test loss: 0.9641081690788269\n",
            "\n",
            "\n",
            "***   StratifiedShuffleSplit 6   ***\n",
            "Found 6516 validated image filenames belonging to 4 classes.\n",
            "Found 182 validated image filenames belonging to 4 classes.\n",
            "Found 202 validated image filenames belonging to 4 classes.\n",
            "Epoch 1/15\n",
            "407/407 [==============================] - 96s 236ms/step - loss: 1.2023 - accuracy: 0.5192 - val_loss: 1.1382 - val_accuracy: 0.5284 - lr: 5.0000e-05\n",
            "Epoch 2/15\n",
            "407/407 [==============================] - 95s 233ms/step - loss: 1.1494 - accuracy: 0.5328 - val_loss: 1.1204 - val_accuracy: 0.5398 - lr: 5.0000e-05\n",
            "Epoch 3/15\n",
            "407/407 [==============================] - 95s 233ms/step - loss: 1.1345 - accuracy: 0.5366 - val_loss: 1.1090 - val_accuracy: 0.5227 - lr: 5.0000e-05\n",
            "Epoch 4/15\n",
            "407/407 [==============================] - 96s 236ms/step - loss: 1.1169 - accuracy: 0.5491 - val_loss: 1.1608 - val_accuracy: 0.5398 - lr: 5.0000e-05\n",
            "Epoch 5/15\n",
            "407/407 [==============================] - ETA: 0s - loss: 1.0947 - accuracy: 0.5563\n",
            "Epoch 00005: ReduceLROnPlateau reducing learning rate to 4.999999873689376e-06.\n",
            "407/407 [==============================] - 95s 234ms/step - loss: 1.0947 - accuracy: 0.5563 - val_loss: 1.1313 - val_accuracy: 0.5455 - lr: 5.0000e-05\n",
            "Epoch 6/15\n",
            "407/407 [==============================] - 95s 234ms/step - loss: 1.0609 - accuracy: 0.5728 - val_loss: 1.0995 - val_accuracy: 0.5795 - lr: 5.0000e-06\n",
            "Epoch 7/15\n",
            "407/407 [==============================] - 95s 234ms/step - loss: 1.0529 - accuracy: 0.5800 - val_loss: 1.1078 - val_accuracy: 0.5511 - lr: 5.0000e-06\n",
            "Epoch 8/15\n",
            "407/407 [==============================] - ETA: 0s - loss: 1.0432 - accuracy: 0.5855\n",
            "Epoch 00008: ReduceLROnPlateau reducing learning rate to 1e-06.\n",
            "407/407 [==============================] - 95s 234ms/step - loss: 1.0432 - accuracy: 0.5855 - val_loss: 1.1178 - val_accuracy: 0.5625 - lr: 5.0000e-06\n",
            "Epoch 9/15\n",
            "407/407 [==============================] - 95s 234ms/step - loss: 1.0374 - accuracy: 0.5877 - val_loss: 1.0888 - val_accuracy: 0.5568 - lr: 1.0000e-06\n",
            "Epoch 10/15\n",
            "407/407 [==============================] - 95s 234ms/step - loss: 1.0377 - accuracy: 0.5895 - val_loss: 1.0992 - val_accuracy: 0.5682 - lr: 1.0000e-06\n",
            "Epoch 11/15\n",
            "407/407 [==============================] - 95s 234ms/step - loss: 1.0352 - accuracy: 0.5871 - val_loss: 1.1103 - val_accuracy: 0.5568 - lr: 1.0000e-06\n",
            "Epoch 12/15\n",
            "407/407 [==============================] - 95s 234ms/step - loss: 1.0354 - accuracy: 0.5872 - val_loss: 1.0742 - val_accuracy: 0.5682 - lr: 1.0000e-06\n",
            "Epoch 13/15\n",
            "407/407 [==============================] - 95s 234ms/step - loss: 1.0369 - accuracy: 0.5863 - val_loss: 1.0999 - val_accuracy: 0.5568 - lr: 1.0000e-06\n",
            "Epoch 14/15\n",
            "407/407 [==============================] - 95s 234ms/step - loss: 1.0392 - accuracy: 0.5855 - val_loss: 1.0915 - val_accuracy: 0.5568 - lr: 1.0000e-06\n",
            "Epoch 15/15\n",
            "407/407 [==============================] - 95s 234ms/step - loss: 1.0322 - accuracy: 0.5869 - val_loss: 1.1036 - val_accuracy: 0.5739 - lr: 1.0000e-06\n",
            "13/13 [==============================] - 1s 81ms/step - loss: 1.0400 - accuracy: 0.5941\n",
            "\n",
            "Test accuracy: 0.594059407711029 \t Test loss: 1.03998601436615\n",
            "\n",
            "\n",
            "***   StratifiedShuffleSplit 7   ***\n",
            "Found 6516 validated image filenames belonging to 4 classes.\n",
            "Found 182 validated image filenames belonging to 4 classes.\n",
            "Found 202 validated image filenames belonging to 4 classes.\n",
            "Epoch 1/15\n",
            "407/407 [==============================] - 97s 239ms/step - loss: 1.1921 - accuracy: 0.5180 - val_loss: 1.1452 - val_accuracy: 0.5284 - lr: 5.0000e-05\n",
            "Epoch 2/15\n",
            "407/407 [==============================] - 95s 234ms/step - loss: 1.1591 - accuracy: 0.5258 - val_loss: 1.1385 - val_accuracy: 0.5284 - lr: 5.0000e-05\n",
            "Epoch 3/15\n",
            "407/407 [==============================] - 95s 233ms/step - loss: 1.1453 - accuracy: 0.5343 - val_loss: 1.1395 - val_accuracy: 0.5227 - lr: 5.0000e-05\n",
            "Epoch 4/15\n",
            "407/407 [==============================] - 95s 233ms/step - loss: 1.1333 - accuracy: 0.5383 - val_loss: 1.1231 - val_accuracy: 0.5170 - lr: 5.0000e-05\n",
            "Epoch 5/15\n",
            "407/407 [==============================] - 95s 234ms/step - loss: 1.1211 - accuracy: 0.5455 - val_loss: 1.1147 - val_accuracy: 0.5682 - lr: 5.0000e-05\n",
            "Epoch 6/15\n",
            "407/407 [==============================] - 95s 234ms/step - loss: 1.0917 - accuracy: 0.5522 - val_loss: 1.0805 - val_accuracy: 0.5284 - lr: 5.0000e-05\n",
            "Epoch 7/15\n",
            "407/407 [==============================] - 95s 234ms/step - loss: 1.0706 - accuracy: 0.5648 - val_loss: 1.0502 - val_accuracy: 0.5909 - lr: 5.0000e-05\n",
            "Epoch 8/15\n",
            "407/407 [==============================] - 95s 234ms/step - loss: 1.0515 - accuracy: 0.5705 - val_loss: 1.0418 - val_accuracy: 0.5455 - lr: 5.0000e-05\n",
            "Epoch 9/15\n",
            "407/407 [==============================] - 95s 234ms/step - loss: 1.0312 - accuracy: 0.5895 - val_loss: 1.0881 - val_accuracy: 0.5511 - lr: 5.0000e-05\n",
            "Epoch 10/15\n",
            "407/407 [==============================] - 95s 234ms/step - loss: 1.0152 - accuracy: 0.5914 - val_loss: 1.0366 - val_accuracy: 0.5795 - lr: 5.0000e-05\n",
            "Epoch 11/15\n",
            "407/407 [==============================] - 95s 234ms/step - loss: 0.9899 - accuracy: 0.6097 - val_loss: 1.0337 - val_accuracy: 0.6023 - lr: 5.0000e-05\n",
            "Epoch 12/15\n",
            "407/407 [==============================] - 95s 234ms/step - loss: 0.9688 - accuracy: 0.6135 - val_loss: 0.9806 - val_accuracy: 0.6420 - lr: 5.0000e-05\n",
            "Epoch 13/15\n",
            "407/407 [==============================] - 95s 234ms/step - loss: 0.9439 - accuracy: 0.6258 - val_loss: 0.9564 - val_accuracy: 0.6420 - lr: 5.0000e-05\n",
            "Epoch 14/15\n",
            "407/407 [==============================] - 95s 234ms/step - loss: 0.9262 - accuracy: 0.6389 - val_loss: 0.9448 - val_accuracy: 0.6420 - lr: 5.0000e-05\n",
            "Epoch 15/15\n",
            "407/407 [==============================] - 95s 234ms/step - loss: 0.9035 - accuracy: 0.6432 - val_loss: 0.9347 - val_accuracy: 0.6591 - lr: 5.0000e-05\n",
            "13/13 [==============================] - 1s 81ms/step - loss: 0.9007 - accuracy: 0.6238\n",
            "\n",
            "Test accuracy: 0.6237623691558838 \t Test loss: 0.9006762504577637\n",
            "\n",
            "\n",
            "***   StratifiedShuffleSplit 8   ***\n",
            "Found 6516 validated image filenames belonging to 4 classes.\n",
            "Found 182 validated image filenames belonging to 4 classes.\n",
            "Found 202 validated image filenames belonging to 4 classes.\n",
            "Epoch 1/15\n",
            "407/407 [==============================] - 97s 238ms/step - loss: 1.1922 - accuracy: 0.5222 - val_loss: 1.1506 - val_accuracy: 0.5284 - lr: 5.0000e-05\n",
            "Epoch 2/15\n",
            "407/407 [==============================] - 95s 233ms/step - loss: 1.1528 - accuracy: 0.5269 - val_loss: 1.1396 - val_accuracy: 0.5227 - lr: 5.0000e-05\n",
            "Epoch 3/15\n",
            "407/407 [==============================] - 95s 233ms/step - loss: 1.1427 - accuracy: 0.5300 - val_loss: 1.0943 - val_accuracy: 0.5284 - lr: 5.0000e-05\n",
            "Epoch 4/15\n",
            "407/407 [==============================] - 95s 233ms/step - loss: 1.1274 - accuracy: 0.5394 - val_loss: 1.0794 - val_accuracy: 0.6250 - lr: 5.0000e-05\n",
            "Epoch 5/15\n",
            "407/407 [==============================] - 95s 233ms/step - loss: 1.1052 - accuracy: 0.5451 - val_loss: 1.0632 - val_accuracy: 0.5398 - lr: 5.0000e-05\n",
            "Epoch 6/15\n",
            "407/407 [==============================] - 95s 234ms/step - loss: 1.0766 - accuracy: 0.5480 - val_loss: 1.0576 - val_accuracy: 0.5682 - lr: 5.0000e-05\n",
            "Epoch 7/15\n",
            "407/407 [==============================] - 95s 234ms/step - loss: 1.0588 - accuracy: 0.5642 - val_loss: 1.0300 - val_accuracy: 0.6364 - lr: 5.0000e-05\n",
            "Epoch 8/15\n",
            "407/407 [==============================] - 95s 233ms/step - loss: 1.0384 - accuracy: 0.5735 - val_loss: 0.9837 - val_accuracy: 0.6307 - lr: 5.0000e-05\n",
            "Epoch 9/15\n",
            "407/407 [==============================] - 95s 234ms/step - loss: 1.0277 - accuracy: 0.5780 - val_loss: 0.9634 - val_accuracy: 0.6364 - lr: 5.0000e-05\n",
            "Epoch 10/15\n",
            "407/407 [==============================] - 95s 234ms/step - loss: 1.0002 - accuracy: 0.5915 - val_loss: 1.0079 - val_accuracy: 0.5455 - lr: 5.0000e-05\n",
            "Epoch 11/15\n",
            "407/407 [==============================] - 95s 234ms/step - loss: 0.9779 - accuracy: 0.6014 - val_loss: 0.9616 - val_accuracy: 0.6250 - lr: 5.0000e-05\n",
            "Epoch 12/15\n",
            "407/407 [==============================] - 95s 234ms/step - loss: 0.9551 - accuracy: 0.6100 - val_loss: 0.9248 - val_accuracy: 0.6534 - lr: 5.0000e-05\n",
            "Epoch 13/15\n",
            "407/407 [==============================] - 95s 234ms/step - loss: 0.9323 - accuracy: 0.6215 - val_loss: 0.9095 - val_accuracy: 0.6591 - lr: 5.0000e-05\n",
            "Epoch 14/15\n",
            "407/407 [==============================] - 95s 234ms/step - loss: 0.9119 - accuracy: 0.6337 - val_loss: 0.9562 - val_accuracy: 0.6534 - lr: 5.0000e-05\n",
            "Epoch 15/15\n",
            "407/407 [==============================] - 95s 234ms/step - loss: 0.8888 - accuracy: 0.6394 - val_loss: 0.8670 - val_accuracy: 0.6477 - lr: 5.0000e-05\n",
            "13/13 [==============================] - 1s 80ms/step - loss: 0.9729 - accuracy: 0.6238\n",
            "\n",
            "Test accuracy: 0.6237623691558838 \t Test loss: 0.9729463458061218\n",
            "\n",
            "\n",
            "***   StratifiedShuffleSplit 9   ***\n",
            "Found 6516 validated image filenames belonging to 4 classes.\n",
            "Found 182 validated image filenames belonging to 4 classes.\n",
            "Found 202 validated image filenames belonging to 4 classes.\n",
            "Epoch 1/15\n",
            "407/407 [==============================] - 97s 238ms/step - loss: 1.1973 - accuracy: 0.5203 - val_loss: 1.1312 - val_accuracy: 0.5284 - lr: 5.0000e-05\n",
            "Epoch 2/15\n",
            "407/407 [==============================] - 95s 234ms/step - loss: 1.1542 - accuracy: 0.5266 - val_loss: 1.1218 - val_accuracy: 0.5284 - lr: 5.0000e-05\n",
            "Epoch 3/15\n",
            "407/407 [==============================] - 95s 234ms/step - loss: 1.1393 - accuracy: 0.5305 - val_loss: 1.1084 - val_accuracy: 0.5341 - lr: 5.0000e-05\n",
            "Epoch 4/15\n",
            "407/407 [==============================] - 95s 234ms/step - loss: 1.1277 - accuracy: 0.5369 - val_loss: 1.1119 - val_accuracy: 0.5170 - lr: 5.0000e-05\n",
            "Epoch 5/15\n",
            "407/407 [==============================] - 95s 234ms/step - loss: 1.1131 - accuracy: 0.5443 - val_loss: 1.0768 - val_accuracy: 0.5682 - lr: 5.0000e-05\n",
            "Epoch 6/15\n",
            "407/407 [==============================] - 95s 233ms/step - loss: 1.0989 - accuracy: 0.5485 - val_loss: 1.0800 - val_accuracy: 0.5682 - lr: 5.0000e-05\n",
            "Epoch 7/15\n",
            "407/407 [==============================] - 95s 234ms/step - loss: 1.0644 - accuracy: 0.5572 - val_loss: 1.0412 - val_accuracy: 0.6023 - lr: 5.0000e-05\n",
            "Epoch 8/15\n",
            "407/407 [==============================] - 95s 234ms/step - loss: 1.0373 - accuracy: 0.5652 - val_loss: 1.0088 - val_accuracy: 0.6364 - lr: 5.0000e-05\n",
            "Epoch 9/15\n",
            "407/407 [==============================] - 95s 234ms/step - loss: 1.0132 - accuracy: 0.5797 - val_loss: 1.0291 - val_accuracy: 0.5909 - lr: 5.0000e-05\n",
            "Epoch 10/15\n",
            "407/407 [==============================] - 95s 234ms/step - loss: 0.9954 - accuracy: 0.5931 - val_loss: 0.9705 - val_accuracy: 0.5909 - lr: 5.0000e-05\n",
            "Epoch 11/15\n",
            "407/407 [==============================] - 95s 234ms/step - loss: 0.9668 - accuracy: 0.6089 - val_loss: 0.9449 - val_accuracy: 0.6307 - lr: 5.0000e-05\n",
            "Epoch 12/15\n",
            "407/407 [==============================] - 95s 234ms/step - loss: 0.9443 - accuracy: 0.6200 - val_loss: 0.9981 - val_accuracy: 0.6193 - lr: 5.0000e-05\n",
            "Epoch 13/15\n",
            "407/407 [==============================] - ETA: 0s - loss: 0.9339 - accuracy: 0.6214\n",
            "Epoch 00013: ReduceLROnPlateau reducing learning rate to 4.999999873689376e-06.\n",
            "407/407 [==============================] - 95s 234ms/step - loss: 0.9339 - accuracy: 0.6214 - val_loss: 0.9961 - val_accuracy: 0.6080 - lr: 5.0000e-05\n",
            "Epoch 14/15\n",
            "407/407 [==============================] - 95s 234ms/step - loss: 0.8572 - accuracy: 0.6560 - val_loss: 0.9684 - val_accuracy: 0.6250 - lr: 5.0000e-06\n",
            "Epoch 15/15\n",
            "407/407 [==============================] - 95s 234ms/step - loss: 0.8361 - accuracy: 0.6611 - val_loss: 0.9400 - val_accuracy: 0.6420 - lr: 5.0000e-06\n",
            "13/13 [==============================] - 1s 80ms/step - loss: 0.9093 - accuracy: 0.6386\n",
            "\n",
            "Test accuracy: 0.6386138796806335 \t Test loss: 0.9092794060707092\n",
            "\n",
            "\n",
            "***   StratifiedShuffleSplit 10   ***\n",
            "Found 6516 validated image filenames belonging to 4 classes.\n",
            "Found 182 validated image filenames belonging to 4 classes.\n",
            "Found 202 validated image filenames belonging to 4 classes.\n",
            "Epoch 1/15\n",
            "407/407 [==============================] - 97s 238ms/step - loss: 1.1998 - accuracy: 0.5203 - val_loss: 1.1229 - val_accuracy: 0.5341 - lr: 5.0000e-05\n",
            "Epoch 2/15\n",
            "407/407 [==============================] - 95s 234ms/step - loss: 1.1541 - accuracy: 0.5269 - val_loss: 1.1047 - val_accuracy: 0.5341 - lr: 5.0000e-05\n",
            "Epoch 3/15\n",
            "407/407 [==============================] - 95s 234ms/step - loss: 1.1396 - accuracy: 0.5322 - val_loss: 1.1035 - val_accuracy: 0.5284 - lr: 5.0000e-05\n",
            "Epoch 4/15\n",
            "407/407 [==============================] - 95s 234ms/step - loss: 1.1249 - accuracy: 0.5352 - val_loss: 1.0792 - val_accuracy: 0.6023 - lr: 5.0000e-05\n",
            "Epoch 5/15\n",
            "407/407 [==============================] - 95s 234ms/step - loss: 1.1108 - accuracy: 0.5480 - val_loss: 1.0801 - val_accuracy: 0.5625 - lr: 5.0000e-05\n",
            "Epoch 6/15\n",
            "407/407 [==============================] - 95s 234ms/step - loss: 1.0917 - accuracy: 0.5538 - val_loss: 1.0507 - val_accuracy: 0.5966 - lr: 5.0000e-05\n",
            "Epoch 7/15\n",
            "407/407 [==============================] - 95s 234ms/step - loss: 1.0791 - accuracy: 0.5594 - val_loss: 1.0330 - val_accuracy: 0.5795 - lr: 5.0000e-05\n",
            "Epoch 8/15\n",
            "328/407 [=======================>......] - ETA: 18s - loss: 1.0531 - accuracy: 0.5686Buffered data was truncated after reaching the output size limit."
          ],
          "name": "stdout"
        }
      ]
    },
    {
      "cell_type": "code",
      "metadata": {
        "id": "GpOalq5c9nUw"
      },
      "source": [
        "from sklearn.model_selection import StratifiedShuffleSplit, train_test_split\n",
        "final_train_df, final_val_df = train_test_split(train_validate_df, test_size=0.15, stratify = train_validate_df['class'].values, random_state=42)\n",
        "\n",
        "df_tr = final_train_df.reset_index(drop=True)\n",
        "df_val = final_val_df.reset_index(drop=True)\n",
        "df_te = test_df"
      ],
      "execution_count": null,
      "outputs": []
    },
    {
      "cell_type": "code",
      "metadata": {
        "id": "FzQYi5MoBKEn"
      },
      "source": [
        "df_tr_nonaug = df_tr.copy()\n",
        "df_tr_pitchshift = df_tr.copy()\n",
        "df_tr_timestrech = df_tr.copy()\n",
        "df_tr_timestrech1 = df_tr.copy()"
      ],
      "execution_count": null,
      "outputs": []
    },
    {
      "cell_type": "code",
      "metadata": {
        "id": "Sojrw76GBLju"
      },
      "source": [
        "import glob\n",
        "df_tr_nonaug['path'] = 'none'\n",
        "files = glob.glob('/content/gdrive/My Drive/wavelet_denoising/*.png')\n",
        "for i in range(len(df_tr_nonaug)):\n",
        "  if '/content/gdrive/My Drive/wavelet_denoising/'+str(df_tr_nonaug['Nama File'].iloc[i]) in files:\n",
        "    df_tr_nonaug['path'].iloc[i] = '/content/gdrive/My Drive/wavelet_denoising/'+str(df_tr_nonaug['Nama File'].iloc[i])\n",
        "\n",
        "df_tr_pitchshift['path'] = 'none'\n",
        "files = glob.glob('/content/gdrive/My Drive/wavelet_pitchshifting_denoising/*.png')\n",
        "for i in range(len(df_tr_pitchshift)):\n",
        "  if '/content/gdrive/My Drive/wavelet_pitchshifting_denoising/'+str(df_tr_timestrech['Nama File'].iloc[i]) in files:\n",
        "    df_tr_pitchshift['path'].iloc[i] = '/content/gdrive/My Drive/wavelet_pitchshifting_denoising/'+str(df_tr_pitchshift['Nama File'].iloc[i])\n",
        "\n",
        "df_tr_timestrech['path'] = 'none'\n",
        "files = glob.glob('/content/gdrive/My Drive/wavelet_timestreching16_denoising/*.png')\n",
        "for i in range(len(df_tr_timestrech)):\n",
        "  if '/content/gdrive/My Drive/wavelet_timestreching16_denoising/'+str(df_tr_timestrech['Nama File'].iloc[i]) in files:\n",
        "    df_tr_timestrech['path'].iloc[i] = '/content/gdrive/My Drive/wavelet_timestreching16_denoising/'+str(df_tr_timestrech['Nama File'].iloc[i])\n",
        "\n",
        "df_tr_timestrech1['path'] = 'none'\n",
        "files = glob.glob('/content/gdrive/My Drive/wavelet_timestreching04_denoising/*.png')\n",
        "for i in range(len(df_tr_timestrech1)):\n",
        "  if '/content/gdrive/My Drive/wavelet_timestreching04_denoising/'+str(df_tr_timestrech1['Nama File'].iloc[i]) in files:\n",
        "    df_tr_timestrech1['path'].iloc[i] = '/content/gdrive/My Drive/wavelet_timestreching04_denoising/'+str(df_tr_timestrech1['Nama File'].iloc[i])"
      ],
      "execution_count": null,
      "outputs": []
    },
    {
      "cell_type": "code",
      "metadata": {
        "id": "ENSWog3EBNVG",
        "colab": {
          "base_uri": "https://localhost:8080/",
          "height": 424
        },
        "outputId": "97051d6c-f5e8-4114-c1f8-011c6234dc54"
      },
      "source": [
        "df_tr = df_tr_nonaug.append([df_tr_pitchshift,df_tr_timestrech,df_tr_timestrech1])\n",
        "df_tr.reset_index(drop=True)"
      ],
      "execution_count": null,
      "outputs": [
        {
          "output_type": "execute_result",
          "data": {
            "text/html": [
              "<div>\n",
              "<style scoped>\n",
              "    .dataframe tbody tr th:only-of-type {\n",
              "        vertical-align: middle;\n",
              "    }\n",
              "\n",
              "    .dataframe tbody tr th {\n",
              "        vertical-align: top;\n",
              "    }\n",
              "\n",
              "    .dataframe thead th {\n",
              "        text-align: right;\n",
              "    }\n",
              "</style>\n",
              "<table border=\"1\" class=\"dataframe\">\n",
              "  <thead>\n",
              "    <tr style=\"text-align: right;\">\n",
              "      <th></th>\n",
              "      <th>Nama File</th>\n",
              "      <th>class</th>\n",
              "      <th>path</th>\n",
              "    </tr>\n",
              "  </thead>\n",
              "  <tbody>\n",
              "    <tr>\n",
              "      <th>0</th>\n",
              "      <td>file326chunk5.png</td>\n",
              "      <td>2</td>\n",
              "      <td>/content/gdrive/My Drive/wavelet_denoising/fil...</td>\n",
              "    </tr>\n",
              "    <tr>\n",
              "      <th>1</th>\n",
              "      <td>file333chunk2.png</td>\n",
              "      <td>0</td>\n",
              "      <td>/content/gdrive/My Drive/wavelet_denoising/fil...</td>\n",
              "    </tr>\n",
              "    <tr>\n",
              "      <th>2</th>\n",
              "      <td>file227chunk5.png</td>\n",
              "      <td>0</td>\n",
              "      <td>/content/gdrive/My Drive/wavelet_denoising/fil...</td>\n",
              "    </tr>\n",
              "    <tr>\n",
              "      <th>3</th>\n",
              "      <td>file372chunk0.png</td>\n",
              "      <td>0</td>\n",
              "      <td>/content/gdrive/My Drive/wavelet_denoising/fil...</td>\n",
              "    </tr>\n",
              "    <tr>\n",
              "      <th>4</th>\n",
              "      <td>file268chunk4.png</td>\n",
              "      <td>0</td>\n",
              "      <td>/content/gdrive/My Drive/wavelet_denoising/fil...</td>\n",
              "    </tr>\n",
              "    <tr>\n",
              "      <th>...</th>\n",
              "      <td>...</td>\n",
              "      <td>...</td>\n",
              "      <td>...</td>\n",
              "    </tr>\n",
              "    <tr>\n",
              "      <th>6839</th>\n",
              "      <td>file103chunk4.png</td>\n",
              "      <td>0</td>\n",
              "      <td>/content/gdrive/My Drive/wavelet_timestreching...</td>\n",
              "    </tr>\n",
              "    <tr>\n",
              "      <th>6840</th>\n",
              "      <td>file316chunk1.png</td>\n",
              "      <td>3</td>\n",
              "      <td>/content/gdrive/My Drive/wavelet_timestreching...</td>\n",
              "    </tr>\n",
              "    <tr>\n",
              "      <th>6841</th>\n",
              "      <td>file306chunk5.png</td>\n",
              "      <td>0</td>\n",
              "      <td>/content/gdrive/My Drive/wavelet_timestreching...</td>\n",
              "    </tr>\n",
              "    <tr>\n",
              "      <th>6842</th>\n",
              "      <td>file333chunk1.png</td>\n",
              "      <td>0</td>\n",
              "      <td>/content/gdrive/My Drive/wavelet_timestreching...</td>\n",
              "    </tr>\n",
              "    <tr>\n",
              "      <th>6843</th>\n",
              "      <td>file232chunk9.png</td>\n",
              "      <td>1</td>\n",
              "      <td>/content/gdrive/My Drive/wavelet_timestreching...</td>\n",
              "    </tr>\n",
              "  </tbody>\n",
              "</table>\n",
              "<p>6844 rows × 3 columns</p>\n",
              "</div>"
            ],
            "text/plain": [
              "              Nama File  ...                                               path\n",
              "0     file326chunk5.png  ...  /content/gdrive/My Drive/wavelet_denoising/fil...\n",
              "1     file333chunk2.png  ...  /content/gdrive/My Drive/wavelet_denoising/fil...\n",
              "2     file227chunk5.png  ...  /content/gdrive/My Drive/wavelet_denoising/fil...\n",
              "3     file372chunk0.png  ...  /content/gdrive/My Drive/wavelet_denoising/fil...\n",
              "4     file268chunk4.png  ...  /content/gdrive/My Drive/wavelet_denoising/fil...\n",
              "...                 ...  ...                                                ...\n",
              "6839  file103chunk4.png  ...  /content/gdrive/My Drive/wavelet_timestreching...\n",
              "6840  file316chunk1.png  ...  /content/gdrive/My Drive/wavelet_timestreching...\n",
              "6841  file306chunk5.png  ...  /content/gdrive/My Drive/wavelet_timestreching...\n",
              "6842  file333chunk1.png  ...  /content/gdrive/My Drive/wavelet_timestreching...\n",
              "6843  file232chunk9.png  ...  /content/gdrive/My Drive/wavelet_timestreching...\n",
              "\n",
              "[6844 rows x 3 columns]"
            ]
          },
          "metadata": {
            "tags": []
          },
          "execution_count": 15
        }
      ]
    },
    {
      "cell_type": "code",
      "metadata": {
        "id": "pwqRHX5MBPEf"
      },
      "source": [
        "df_te['path'] = 'none'\n",
        "files = glob.glob('/content/gdrive/My Drive/wavelet_denoising/*.png')\n",
        "for i in range(len(df_te)):\n",
        "  if '/content/gdrive/My Drive/wavelet_denoising/'+str(df_te['Nama File'].iloc[i]) in files:\n",
        "    df_te['path'].iloc[i] = '/content/gdrive/My Drive/wavelet_denoising/'+str(df_te['Nama File'].iloc[i])"
      ],
      "execution_count": null,
      "outputs": []
    },
    {
      "cell_type": "code",
      "metadata": {
        "id": "SGk4WrKhBQgJ"
      },
      "source": [
        "df_val['path'] = 'none'\n",
        "files = glob.glob('/content/gdrive/My Drive/wavelet_denoising/*.png')\n",
        "for i in range(len(df_val)):\n",
        "  if '/content/gdrive/My Drive/wavelet_denoising/'+str(df_val['Nama File'].iloc[i]) in files:\n",
        "    df_val['path'].iloc[i] = '/content/gdrive/My Drive/wavelet_denoising/'+str(df_val['Nama File'].iloc[i])"
      ],
      "execution_count": null,
      "outputs": []
    },
    {
      "cell_type": "code",
      "metadata": {
        "id": "NoEdE9oKBR_r",
        "colab": {
          "base_uri": "https://localhost:8080/",
          "height": 72
        },
        "outputId": "39418a26-741e-44cf-fd1f-a380a11e35ad"
      },
      "source": [
        "print('train size', len(df_tr))\n",
        "print('val size', len(df_val))\n",
        "print('test size', len(df_te))"
      ],
      "execution_count": null,
      "outputs": [
        {
          "output_type": "stream",
          "text": [
            "train size 6844\n",
            "val size 302\n",
            "test size 356\n"
          ],
          "name": "stdout"
        }
      ]
    },
    {
      "cell_type": "code",
      "metadata": {
        "id": "6j7SwFmZBTTr",
        "colab": {
          "base_uri": "https://localhost:8080/",
          "height": 72
        },
        "outputId": "769d89fe-801a-4bda-eb62-0b1a18ba53d9"
      },
      "source": [
        "train_generator = train_datagen.flow_from_dataframe(df_tr, x_col='path', y_col='class', target_size=(252,252),\n",
        "                                                    class_mode='categorical', batch_size=16,)\n",
        "\n",
        "val_generator = val_datagen.flow_from_dataframe(df_val, x_col='path', y_col='class', target_size=(252,252),\n",
        "                                                    class_mode='categorical', batch_size=16)\n",
        "\n",
        "test_generator = test_datagen.flow_from_dataframe(df_te, x_col='path', y_col='class', target_size=(252,252),\n",
        "                                                    class_mode='categorical', batch_size=16)"
      ],
      "execution_count": null,
      "outputs": [
        {
          "output_type": "stream",
          "text": [
            "Found 6844 validated image filenames belonging to 4 classes.\n",
            "Found 302 validated image filenames belonging to 4 classes.\n",
            "Found 356 validated image filenames belonging to 4 classes.\n"
          ],
          "name": "stdout"
        }
      ]
    },
    {
      "cell_type": "code",
      "metadata": {
        "id": "A-6brpWsBUzc"
      },
      "source": [
        "from tensorflow.keras.layers import Input, Dense, Conv2D, MaxPooling2D, UpSampling2D, Flatten, BatchNormalization, Dropout\n",
        "from tensorflow.keras.models import Model\n",
        "import tensorflow as tf"
      ],
      "execution_count": null,
      "outputs": []
    },
    {
      "cell_type": "code",
      "metadata": {
        "id": "7YSNmWeQBWp1",
        "colab": {
          "base_uri": "https://localhost:8080/",
          "height": 1000
        },
        "outputId": "4f6cda65-12e1-45e4-c0eb-8d6cc394a2cd"
      },
      "source": [
        "with tf.device('device:GPU:0'):\n",
        "  Stacked_Denoising_Autoencode = Model(input_img, sdae(input_img))\n",
        "  Stacked_Denoising_Autoencode.compile(optimizer= tf.keras.optimizers.RMSprop(learning_rate=0.00005) , loss='categorical_crossentropy', metrics=['accuracy'])\n",
        "    \n",
        "  train_model = Stacked_Denoising_Autoencode.fit(train_generator,\n",
        "                  epochs=40,\n",
        "                  steps_per_epoch= df_tr.shape[0]//16,\n",
        "                  validation_steps= df_val.shape[0]//16,\n",
        "                  validation_data=val_generator,\n",
        "                  callbacks=callbacks(checkpoint_filepath))"
      ],
      "execution_count": null,
      "outputs": [
        {
          "output_type": "stream",
          "text": [
            "Epoch 1/40\n",
            "427/427 [==============================] - 102s 240ms/step - loss: 1.1973 - accuracy: 0.5230 - val_loss: 1.1520 - val_accuracy: 0.5208 - lr: 5.0000e-05\n",
            "Epoch 2/40\n",
            "427/427 [==============================] - 100s 235ms/step - loss: 1.1525 - accuracy: 0.5264 - val_loss: 1.1330 - val_accuracy: 0.5347 - lr: 5.0000e-05\n",
            "Epoch 3/40\n",
            "427/427 [==============================] - 100s 235ms/step - loss: 1.1439 - accuracy: 0.5308 - val_loss: 1.1264 - val_accuracy: 0.5486 - lr: 5.0000e-05\n",
            "Epoch 4/40\n",
            "427/427 [==============================] - 101s 235ms/step - loss: 1.1140 - accuracy: 0.5453 - val_loss: 1.0810 - val_accuracy: 0.5451 - lr: 5.0000e-05\n",
            "Epoch 5/40\n",
            "427/427 [==============================] - 100s 235ms/step - loss: 1.0822 - accuracy: 0.5551 - val_loss: 1.0786 - val_accuracy: 0.5660 - lr: 5.0000e-05\n",
            "Epoch 6/40\n",
            "427/427 [==============================] - 100s 235ms/step - loss: 1.0595 - accuracy: 0.5633 - val_loss: 1.0659 - val_accuracy: 0.5347 - lr: 5.0000e-05\n",
            "Epoch 7/40\n",
            "427/427 [==============================] - 100s 235ms/step - loss: 1.0493 - accuracy: 0.5735 - val_loss: 1.0641 - val_accuracy: 0.5625 - lr: 5.0000e-05\n",
            "Epoch 8/40\n",
            "427/427 [==============================] - 100s 235ms/step - loss: 1.0248 - accuracy: 0.5814 - val_loss: 1.0396 - val_accuracy: 0.5556 - lr: 5.0000e-05\n",
            "Epoch 9/40\n",
            "427/427 [==============================] - 100s 235ms/step - loss: 1.0034 - accuracy: 0.5854 - val_loss: 1.0411 - val_accuracy: 0.5694 - lr: 5.0000e-05\n",
            "Epoch 10/40\n",
            "427/427 [==============================] - 100s 235ms/step - loss: 0.9796 - accuracy: 0.5989 - val_loss: 1.0007 - val_accuracy: 0.5903 - lr: 5.0000e-05\n",
            "Epoch 11/40\n",
            "427/427 [==============================] - 100s 235ms/step - loss: 0.9576 - accuracy: 0.6106 - val_loss: 0.9968 - val_accuracy: 0.5938 - lr: 5.0000e-05\n",
            "Epoch 12/40\n",
            "427/427 [==============================] - 101s 235ms/step - loss: 0.9309 - accuracy: 0.6265 - val_loss: 1.0097 - val_accuracy: 0.5868 - lr: 5.0000e-05\n",
            "Epoch 13/40\n",
            "427/427 [==============================] - 101s 235ms/step - loss: 0.9075 - accuracy: 0.6387 - val_loss: 0.9493 - val_accuracy: 0.6250 - lr: 5.0000e-05\n",
            "Epoch 14/40\n",
            "427/427 [==============================] - 101s 235ms/step - loss: 0.8895 - accuracy: 0.6424 - val_loss: 0.9251 - val_accuracy: 0.6042 - lr: 5.0000e-05\n",
            "Epoch 15/40\n",
            "427/427 [==============================] - 101s 236ms/step - loss: 0.8728 - accuracy: 0.6541 - val_loss: 0.9112 - val_accuracy: 0.6250 - lr: 5.0000e-05\n",
            "Epoch 16/40\n",
            "427/427 [==============================] - 101s 236ms/step - loss: 0.8556 - accuracy: 0.6580 - val_loss: 0.9429 - val_accuracy: 0.6319 - lr: 5.0000e-05\n",
            "Epoch 17/40\n",
            "427/427 [==============================] - ETA: 0s - loss: 0.8382 - accuracy: 0.6686\n",
            "Epoch 00017: ReduceLROnPlateau reducing learning rate to 4.999999873689376e-06.\n",
            "427/427 [==============================] - 101s 236ms/step - loss: 0.8382 - accuracy: 0.6686 - val_loss: 0.9296 - val_accuracy: 0.6389 - lr: 5.0000e-05\n",
            "Epoch 18/40\n",
            "427/427 [==============================] - 101s 235ms/step - loss: 0.7611 - accuracy: 0.6879 - val_loss: 0.9148 - val_accuracy: 0.6424 - lr: 5.0000e-06\n",
            "Epoch 19/40\n",
            "427/427 [==============================] - ETA: 0s - loss: 0.7410 - accuracy: 0.7023\n",
            "Epoch 00019: ReduceLROnPlateau reducing learning rate to 1e-06.\n",
            "427/427 [==============================] - 100s 235ms/step - loss: 0.7410 - accuracy: 0.7023 - val_loss: 0.9559 - val_accuracy: 0.6111 - lr: 5.0000e-06\n",
            "Epoch 20/40\n",
            "427/427 [==============================] - 101s 235ms/step - loss: 0.7277 - accuracy: 0.7106 - val_loss: 0.9487 - val_accuracy: 0.6111 - lr: 1.0000e-06\n",
            "Epoch 21/40\n",
            "427/427 [==============================] - 100s 235ms/step - loss: 0.7217 - accuracy: 0.7112 - val_loss: 0.9480 - val_accuracy: 0.6146 - lr: 1.0000e-06\n",
            "Epoch 22/40\n",
            "427/427 [==============================] - 100s 235ms/step - loss: 0.7279 - accuracy: 0.7046 - val_loss: 0.9321 - val_accuracy: 0.6111 - lr: 1.0000e-06\n",
            "Epoch 23/40\n",
            "427/427 [==============================] - 100s 235ms/step - loss: 0.7161 - accuracy: 0.7088 - val_loss: 0.9439 - val_accuracy: 0.6146 - lr: 1.0000e-06\n",
            "Epoch 24/40\n",
            "427/427 [==============================] - 100s 235ms/step - loss: 0.7209 - accuracy: 0.7078 - val_loss: 0.9337 - val_accuracy: 0.6215 - lr: 1.0000e-06\n",
            "Epoch 25/40\n",
            "427/427 [==============================] - 100s 235ms/step - loss: 0.7149 - accuracy: 0.7134 - val_loss: 0.9513 - val_accuracy: 0.6181 - lr: 1.0000e-06\n",
            "Epoch 26/40\n",
            "427/427 [==============================] - 100s 235ms/step - loss: 0.7228 - accuracy: 0.7109 - val_loss: 0.9196 - val_accuracy: 0.6146 - lr: 1.0000e-06\n",
            "Epoch 27/40\n",
            "427/427 [==============================] - 100s 235ms/step - loss: 0.7161 - accuracy: 0.7107 - val_loss: 0.9473 - val_accuracy: 0.6181 - lr: 1.0000e-06\n",
            "Epoch 28/40\n",
            "427/427 [==============================] - 100s 235ms/step - loss: 0.7150 - accuracy: 0.7103 - val_loss: 0.9513 - val_accuracy: 0.6146 - lr: 1.0000e-06\n",
            "Epoch 29/40\n",
            "427/427 [==============================] - 100s 235ms/step - loss: 0.7110 - accuracy: 0.7122 - val_loss: 0.9386 - val_accuracy: 0.6146 - lr: 1.0000e-06\n",
            "Epoch 30/40\n",
            "427/427 [==============================] - 100s 235ms/step - loss: 0.7079 - accuracy: 0.7156 - val_loss: 0.9311 - val_accuracy: 0.6354 - lr: 1.0000e-06\n",
            "Epoch 31/40\n",
            "427/427 [==============================] - 100s 235ms/step - loss: 0.7100 - accuracy: 0.7143 - val_loss: 0.9443 - val_accuracy: 0.6215 - lr: 1.0000e-06\n",
            "Epoch 32/40\n",
            "427/427 [==============================] - 100s 235ms/step - loss: 0.7116 - accuracy: 0.7149 - val_loss: 0.9168 - val_accuracy: 0.6319 - lr: 1.0000e-06\n",
            "Epoch 33/40\n",
            "427/427 [==============================] - 100s 235ms/step - loss: 0.7044 - accuracy: 0.7181 - val_loss: 0.9405 - val_accuracy: 0.6285 - lr: 1.0000e-06\n",
            "Epoch 34/40\n",
            "427/427 [==============================] - 100s 235ms/step - loss: 0.7031 - accuracy: 0.7156 - val_loss: 0.9578 - val_accuracy: 0.6146 - lr: 1.0000e-06\n",
            "Epoch 35/40\n",
            "427/427 [==============================] - 100s 235ms/step - loss: 0.6995 - accuracy: 0.7128 - val_loss: 0.9320 - val_accuracy: 0.6181 - lr: 1.0000e-06\n",
            "Epoch 36/40\n",
            "427/427 [==============================] - 100s 235ms/step - loss: 0.6986 - accuracy: 0.7251 - val_loss: 0.9652 - val_accuracy: 0.6181 - lr: 1.0000e-06\n",
            "Epoch 37/40\n",
            "427/427 [==============================] - 100s 235ms/step - loss: 0.7002 - accuracy: 0.7159 - val_loss: 0.9465 - val_accuracy: 0.6181 - lr: 1.0000e-06\n",
            "Epoch 38/40\n",
            "427/427 [==============================] - 100s 235ms/step - loss: 0.7019 - accuracy: 0.7170 - val_loss: 0.9058 - val_accuracy: 0.6285 - lr: 1.0000e-06\n",
            "Epoch 39/40\n",
            "427/427 [==============================] - 100s 235ms/step - loss: 0.6970 - accuracy: 0.7203 - val_loss: 0.9536 - val_accuracy: 0.6181 - lr: 1.0000e-06\n",
            "Epoch 40/40\n",
            "427/427 [==============================] - 100s 235ms/step - loss: 0.6965 - accuracy: 0.7157 - val_loss: 0.9269 - val_accuracy: 0.6354 - lr: 1.0000e-06\n"
          ],
          "name": "stdout"
        }
      ]
    },
    {
      "cell_type": "code",
      "metadata": {
        "id": "d0ODwNf7BX_F",
        "colab": {
          "base_uri": "https://localhost:8080/",
          "height": 927
        },
        "outputId": "7b5a78b6-d677-4f39-edab-8348aefdeb42"
      },
      "source": [
        "Stacked_Denoising_Autoencode.summary()"
      ],
      "execution_count": null,
      "outputs": [
        {
          "output_type": "stream",
          "text": [
            "Model: \"model_3\"\n",
            "_________________________________________________________________\n",
            "Layer (type)                 Output Shape              Param #   \n",
            "=================================================================\n",
            "input_1 (InputLayer)         [(None, 250, 250, 3)]     0         \n",
            "_________________________________________________________________\n",
            "conv2d_24 (Conv2D)           (None, 250, 250, 512)     14336     \n",
            "_________________________________________________________________\n",
            "max_pooling2d_12 (MaxPooling (None, 125, 125, 512)     0         \n",
            "_________________________________________________________________\n",
            "conv2d_25 (Conv2D)           (None, 125, 125, 256)     1179904   \n",
            "_________________________________________________________________\n",
            "max_pooling2d_13 (MaxPooling (None, 63, 63, 256)       0         \n",
            "_________________________________________________________________\n",
            "conv2d_26 (Conv2D)           (None, 63, 63, 128)       295040    \n",
            "_________________________________________________________________\n",
            "max_pooling2d_14 (MaxPooling (None, 32, 32, 128)       0         \n",
            "_________________________________________________________________\n",
            "conv2d_27 (Conv2D)           (None, 32, 32, 64)        73792     \n",
            "_________________________________________________________________\n",
            "max_pooling2d_15 (MaxPooling (None, 16, 16, 64)        0         \n",
            "_________________________________________________________________\n",
            "conv2d_28 (Conv2D)           (None, 16, 16, 128)       73856     \n",
            "_________________________________________________________________\n",
            "up_sampling2d_9 (UpSampling2 (None, 32, 32, 128)       0         \n",
            "_________________________________________________________________\n",
            "conv2d_29 (Conv2D)           (None, 32, 32, 256)       295168    \n",
            "_________________________________________________________________\n",
            "up_sampling2d_10 (UpSampling (None, 64, 64, 256)       0         \n",
            "_________________________________________________________________\n",
            "conv2d_30 (Conv2D)           (None, 62, 62, 512)       1180160   \n",
            "_________________________________________________________________\n",
            "up_sampling2d_11 (UpSampling (None, 124, 124, 512)     0         \n",
            "_________________________________________________________________\n",
            "conv2d_31 (Conv2D)           (None, 124, 124, 3)       13827     \n",
            "_________________________________________________________________\n",
            "flatten_3 (Flatten)          (None, 46128)             0         \n",
            "_________________________________________________________________\n",
            "dense_9 (Dense)              (None, 256)               11809024  \n",
            "_________________________________________________________________\n",
            "dropout_3 (Dropout)          (None, 256)               0         \n",
            "_________________________________________________________________\n",
            "dense_10 (Dense)             (None, 128)               32896     \n",
            "_________________________________________________________________\n",
            "dense_11 (Dense)             (None, 4)                 516       \n",
            "=================================================================\n",
            "Total params: 14,968,519\n",
            "Trainable params: 14,968,519\n",
            "Non-trainable params: 0\n",
            "_________________________________________________________________\n"
          ],
          "name": "stdout"
        }
      ]
    },
    {
      "cell_type": "code",
      "metadata": {
        "id": "qMyRwE3nBZfq",
        "colab": {
          "base_uri": "https://localhost:8080/",
          "height": 108
        },
        "outputId": "a590b2ab-00d6-4455-e2d5-a4cfd1db35f7"
      },
      "source": [
        "test_loss, test_acc = Stacked_Denoising_Autoencode.evaluate(test_generator)\n",
        "print(f'\\nTest accuracy: {test_acc} \\t Test loss: {test_loss}\\n\\n')"
      ],
      "execution_count": null,
      "outputs": [
        {
          "output_type": "stream",
          "text": [
            "23/23 [==============================] - 2s 83ms/step - loss: 0.8832 - accuracy: 0.6798\n",
            "\n",
            "Test accuracy: 0.6797752976417542 \t Test loss: 0.8831642270088196\n",
            "\n",
            "\n"
          ],
          "name": "stdout"
        }
      ]
    },
    {
      "cell_type": "code",
      "metadata": {
        "id": "KxRVhNOPBa6I"
      },
      "source": [
        "# Save Model\n",
        "# Save the weights\n",
        "Stacked_Denoising_Autoencode.save_weights('/content/gdrive/My Drive/lung sound classification RelU High arsi.h5')\n",
        "\n",
        "# Save the model architecture\n",
        "with open('Lung_Classification_model_architecture Tanh High arsi.json', 'w') as f:\n",
        "    f.write(Stacked_Denoising_Autoencode.to_json())"
      ],
      "execution_count": null,
      "outputs": []
    },
    {
      "cell_type": "code",
      "metadata": {
        "id": "pXU3n_VRBcih",
        "colab": {
          "base_uri": "https://localhost:8080/",
          "height": 592
        },
        "outputId": "8788d4eb-1a84-4049-8f82-14e6e861b7d0"
      },
      "source": [
        "# Virtualize Training\n",
        "import matplotlib.pyplot as plt\n",
        "\n",
        "fig, ax = plt.subplots(2,1)\n",
        "plt.gcf().set_size_inches(15, 10)\n",
        "ax[0].plot(train_model.history['loss'], color='b', label=\"Training loss\")\n",
        "ax[0].plot(train_model.history['val_loss'], color='r', label=\"validation loss\",axes =ax[0])\n",
        "legend = ax[0].legend(loc='best', shadow=True)\n",
        "\n",
        "ax[1].plot(train_model.history['accuracy'], color='b', label=\"Training accuracy\")\n",
        "ax[1].plot(train_model.history['val_accuracy'], color='r',label=\"Validation accuracy\")\n",
        "legend = ax[1].legend(loc='best', shadow=True)"
      ],
      "execution_count": null,
      "outputs": [
        {
          "output_type": "display_data",
          "data": {
            "image/png": "[encoded data removed]",
            "text/plain": [
              "<Figure size 1080x720 with 2 Axes>"
            ]
          },
          "metadata": {
            "tags": [],
            "needs_background": "light"
          }
        }
      ]
    },
    {
      "cell_type": "code",
      "metadata": {
        "id": "Pvpe-J__Bd8i",
        "colab": {
          "base_uri": "https://localhost:8080/",
          "height": 35
        },
        "outputId": "72983b06-0440-4989-8ac3-8e05aafa26f3"
      },
      "source": [
        "predict = Stacked_Denoising_Autoencode.predict(test_generator, verbose=2)"
      ],
      "execution_count": null,
      "outputs": [
        {
          "output_type": "stream",
          "text": [
            "23/23 - 2s\n"
          ],
          "name": "stdout"
        }
      ]
    },
    {
      "cell_type": "code",
      "metadata": {
        "id": "mc8A8bGzBfdd",
        "colab": {
          "base_uri": "https://localhost:8080/",
          "height": 35
        },
        "outputId": "2ed8706f-ba15-493f-bffe-3910e80ed36d"
      },
      "source": [
        "(test_generator.class_indices)"
      ],
      "execution_count": null,
      "outputs": [
        {
          "output_type": "execute_result",
          "data": {
            "text/plain": [
              "{'0': 0, '1': 1, '2': 2, '3': 3}"
            ]
          },
          "metadata": {
            "tags": []
          },
          "execution_count": 31
        }
      ]
    },
    {
      "cell_type": "code",
      "metadata": {
        "id": "ieV_tqXOBg3n"
      },
      "source": [
        "predict_dec = predict.argmax(axis=-1)\n",
        "predict_dec = list(map(str,predict_dec))"
      ],
      "execution_count": null,
      "outputs": []
    },
    {
      "cell_type": "code",
      "metadata": {
        "id": "W9H2CO5hBiQd",
        "colab": {
          "base_uri": "https://localhost:8080/",
          "height": 90
        },
        "outputId": "a716807d-4f44-43dd-d8a0-48a968afd4ab"
      },
      "source": [
        "from sklearn.metrics import log_loss, confusion_matrix, classification_report\n",
        "conf_mat = confusion_matrix(df_te[\"class\"].values, predict_dec)\n",
        "conf_mat"
      ],
      "execution_count": null,
      "outputs": [
        {
          "output_type": "execute_result",
          "data": {
            "text/plain": [
              "array([[116,  52,  12,   8],\n",
              "       [ 53,  27,   9,   7],\n",
              "       [ 29,  12,   3,   2],\n",
              "       [ 16,   4,   2,   4]])"
            ]
          },
          "metadata": {
            "tags": []
          },
          "execution_count": 39
        }
      ]
    },
    {
      "cell_type": "code",
      "metadata": {
        "id": "pa2CaSlEBjt4",
        "colab": {
          "base_uri": "https://localhost:8080/",
          "height": 217
        },
        "outputId": "7633d6b7-67be-4f98-87cf-e1dd5d5aa9a1"
      },
      "source": [
        "print(classification_report(df_te[\"class\"].values, predict_dec, target_names=[\"Normal\",\"Crackle\",\"Wheeze\",\"Crackle and Wheeze\"]))"
      ],
      "execution_count": null,
      "outputs": [
        {
          "output_type": "stream",
          "text": [
            "                    precision    recall  f1-score   support\n",
            "\n",
            "            Normal       0.54      0.62      0.58       188\n",
            "           Crackle       0.28      0.28      0.28        96\n",
            "            Wheeze       0.12      0.07      0.08        46\n",
            "Crackle and Wheeze       0.19      0.15      0.17        26\n",
            "\n",
            "          accuracy                           0.42       356\n",
            "         macro avg       0.28      0.28      0.28       356\n",
            "      weighted avg       0.39      0.42      0.40       356\n",
            "\n"
          ],
          "name": "stdout"
        }
      ]
    },
    {
      "cell_type": "code",
      "metadata": {
        "id": "v1zj9zkXBlJD"
      },
      "source": [
        ""
      ],
      "execution_count": null,
      "outputs": []
    }
  ]
}